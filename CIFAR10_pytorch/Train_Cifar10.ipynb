{
 "cells": [
  {
   "cell_type": "code",
   "execution_count": 5,
   "id": "e2e5c153",
   "metadata": {},
   "outputs": [],
   "source": [
    "import torch\n",
    "import torch.nn as nn\n",
    "from torchvision import datasets\n",
    "from torchvision import transforms\n",
    "import torchvision\n",
    "import numpy as np\n",
    "import matplotlib.pyplot as plt"
   ]
  },
  {
   "cell_type": "code",
   "execution_count": 18,
   "id": "de398562",
   "metadata": {},
   "outputs": [
    {
     "name": "stdout",
     "output_type": "stream",
     "text": [
      "Files already downloaded and verified\n",
      "Files already downloaded and verified\n"
     ]
    }
   ],
   "source": [
    "train_transform = transforms.Compose([\n",
    "        transforms.RandomResizedCrop(32),\n",
    "        transforms.RandomRotation(15),\n",
    "        transforms.RandomHorizontalFlip(p=0.5),\n",
    "    transforms.ToTensor(),\n",
    "        ])\n",
    "test_transform = transforms.Compose([\n",
    "        transforms.ToTensor(),\n",
    "        ])\n",
    "batch_size = 4\n",
    "trainset = torchvision.datasets.CIFAR10(root='./data/',train=True,transform=train_transform,download=True)\n",
    "testset = torchvision.datasets.CIFAR10(root='./data/',train=False,transform=test_transform,download=True)\n",
    "\n",
    "train_loader = torch.utils.data.DataLoader(trainset,\n",
    "                                          batch_size=batch_size,\n",
    "                                          shuffle=True,\n",
    "                                          num_workers=4)\n",
    "test_loader = torch.utils.data.DataLoader(testset,\n",
    "                                          batch_size=1,\n",
    "                                          shuffle=False,\n",
    "                                          num_workers=4)"
   ]
  },
  {
   "cell_type": "code",
   "execution_count": 19,
   "id": "aca79893",
   "metadata": {},
   "outputs": [],
   "source": [
    "class models(nn.Module):\n",
    "    def __init__(self,input_dim:int, hidden_dim, class_number:int):\n",
    "        super().__init__()\n",
    "        \n",
    "    def forward(self,x):\n",
    "        return\n",
    "    "
   ]
  },
  {
   "cell_type": "code",
   "execution_count": 20,
   "id": "75fe392e",
   "metadata": {},
   "outputs": [],
   "source": [
    "# requirements to train the models\n",
    "\n",
    "########\n",
    "epochs = 10\n",
    "\n",
    "########\n",
    "\n",
    "\n",
    "########"
   ]
  },
  {
   "cell_type": "code",
   "execution_count": 26,
   "id": "8d2ae4e7",
   "metadata": {},
   "outputs": [
    {
     "name": "stdout",
     "output_type": "stream",
     "text": [
      "0 torch.Size([4, 3, 32, 32]) torch.Size([4])\n",
      "0 torch.Size([1, 3, 32, 32]) torch.Size([1])\n"
     ]
    }
   ],
   "source": [
    "for epoch in range(epochs):\n",
    "    for index, (img,label) in enumerate(train_loader):\n",
    "        print(index, img.shape,label.shape)\n",
    "        break\n",
    "        \n",
    "    for index, (img,label) in enumerate(test_loader):\n",
    "        print(index, img.shape,label.shape)\n",
    "        break\n",
    "    break"
   ]
  },
  {
   "cell_type": "code",
   "execution_count": null,
   "id": "b3887618",
   "metadata": {},
   "outputs": [],
   "source": []
  },
  {
   "cell_type": "code",
   "execution_count": null,
   "id": "c51c104d",
   "metadata": {},
   "outputs": [],
   "source": []
  }
 ],
 "metadata": {
  "kernelspec": {
   "display_name": "pytorch_p38",
   "language": "python",
   "name": "pytorch_p38"
  },
  "language_info": {
   "codemirror_mode": {
    "name": "ipython",
    "version": 3
   },
   "file_extension": ".py",
   "mimetype": "text/x-python",
   "name": "python",
   "nbconvert_exporter": "python",
   "pygments_lexer": "ipython3",
   "version": "3.8.12"
  }
 },
 "nbformat": 4,
 "nbformat_minor": 5
}
