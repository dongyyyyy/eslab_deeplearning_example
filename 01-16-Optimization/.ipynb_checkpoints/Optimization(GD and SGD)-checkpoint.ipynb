{
 "cells": [
  {
   "cell_type": "markdown",
   "id": "314a0742",
   "metadata": {},
   "source": [
    "## Gradient Desent\n",
    "\n",
    "### $\\theta_{W_t} = \\theta_{W_{t-1}} - \\eta \\frac{\\partial L}{\\partial W_{t-1}} = \\theta_{W_{t-1}} - \\eta {\\nabla}W_{t-1}$  \n",
    "\n",
    "## What is the Stochastic in the Gradient Descent?"
   ]
  },
  {
   "cell_type": "markdown",
   "id": "515f536a",
   "metadata": {},
   "source": [
    "### Fully-connected Layer(Dense Layer)\n",
    "## $H(x) = Wx + b$\n",
    "### - x = [1,2,3]\n",
    "### - y = [1,2,3]"
   ]
  },
  {
   "cell_type": "code",
   "execution_count": 79,
   "id": "07293903",
   "metadata": {},
   "outputs": [],
   "source": [
    "import numpy as np\n",
    "import torch\n",
    "import torch.nn as nn\n",
    "import random"
   ]
  },
  {
   "cell_type": "code",
   "execution_count": 80,
   "id": "93717dc3",
   "metadata": {},
   "outputs": [],
   "source": [
    "import random\n",
    "random_seed =2\n",
    "torch.manual_seed(random_seed)\n",
    "torch.cuda.manual_seed(random_seed)\n",
    "torch.cuda.manual_seed_all(random_seed) # if use multi-GPU\n",
    "torch.backends.cudnn.deterministic = True\n",
    "torch.backends.cudnn.benchmark = False\n",
    "np.random.seed(random_seed)\n",
    "random.seed(random_seed)"
   ]
  },
  {
   "cell_type": "code",
   "execution_count": 81,
   "id": "e56b769b",
   "metadata": {},
   "outputs": [],
   "source": [
    "class model(nn.Module):\n",
    "    def __init__(self):\n",
    "        super().__init__()\n",
    "        # 앞의 1 = 입력 노드의 개수(100), 뒤의 1 = 출력 노드의 개수(히든층 혹은 출력층)(10) = 1\n",
    "        self.linear = nn.Linear(1,1,bias=True) # W = [1] , B = [1]\n",
    "        \n",
    "    def forward(self,x):\n",
    "        return self.linear(x)\n",
    "    "
   ]
  },
  {
   "cell_type": "code",
   "execution_count": 82,
   "id": "8c5d40dc",
   "metadata": {},
   "outputs": [],
   "source": [
    "model1 = model()\n",
    "model2 = model()"
   ]
  },
  {
   "cell_type": "code",
   "execution_count": 83,
   "id": "c3fcbd42",
   "metadata": {},
   "outputs": [
    {
     "data": {
      "text/plain": [
       "<All keys matched successfully>"
      ]
     },
     "execution_count": 83,
     "metadata": {},
     "output_type": "execute_result"
    }
   ],
   "source": [
    "model2.load_state_dict(model1.state_dict())"
   ]
  },
  {
   "cell_type": "code",
   "execution_count": 84,
   "id": "faf5a1dc",
   "metadata": {},
   "outputs": [],
   "source": [
    "x_train = torch.tensor(np.array([[1],[2],[3],[4],[5],[6]]),dtype=torch.float)\n",
    "y_train = torch.tensor(np.array([[1],[2],[3],[4],[5],[6]]))"
   ]
  },
  {
   "cell_type": "code",
   "execution_count": 85,
   "id": "0994798e",
   "metadata": {},
   "outputs": [],
   "source": [
    "class mean_squred_error(nn.Module):\n",
    "    def __init__(self):\n",
    "        super().__init__()\n",
    "    def forward(self,x,y):\n",
    "        return torch.mean(torch.square(x-y))"
   ]
  },
  {
   "cell_type": "code",
   "execution_count": 86,
   "id": "885b41b9",
   "metadata": {},
   "outputs": [],
   "source": [
    "cost = mean_squred_error()"
   ]
  },
  {
   "cell_type": "code",
   "execution_count": 87,
   "id": "c3e67f81",
   "metadata": {},
   "outputs": [],
   "source": [
    "learning_rate = 0.01\n",
    "optim1 = torch.optim.SGD(model1.parameters(),lr=learning_rate)\n",
    "optim2 = torch.optim.SGD(model2.parameters(),lr=learning_rate)"
   ]
  },
  {
   "cell_type": "code",
   "execution_count": 88,
   "id": "8cdd3b1b",
   "metadata": {},
   "outputs": [
    {
     "name": "stdout",
     "output_type": "stream",
     "text": [
      "Parameter containing:\n",
      "tensor([[0.2294]], requires_grad=True) Parameter containing:\n",
      "tensor([-0.2380], requires_grad=True)\n",
      "Parameter containing:\n",
      "tensor([[0.2294]], requires_grad=True) Parameter containing:\n",
      "tensor([-0.2380], requires_grad=True)\n"
     ]
    }
   ],
   "source": [
    "print(model1.linear.weight,model1.linear.bias)\n",
    "print(model2.linear.weight,model2.linear.bias)"
   ]
  },
  {
   "cell_type": "code",
   "execution_count": 89,
   "id": "46ad4506",
   "metadata": {},
   "outputs": [
    {
     "name": "stdout",
     "output_type": "stream",
     "text": [
      "[0 1 2 3 4 5]\n",
      "[2 3 1 4 5 0]\n",
      "tensor([[1.],\n",
      "        [2.],\n",
      "        [3.],\n",
      "        [4.],\n",
      "        [5.],\n",
      "        [6.]])\n",
      "tensor([[1],\n",
      "        [2],\n",
      "        [3],\n",
      "        [4],\n",
      "        [5],\n",
      "        [6]])\n",
      "tensor([[3.],\n",
      "        [4.],\n",
      "        [2.],\n",
      "        [5.],\n",
      "        [6.],\n",
      "        [1.]])\n",
      "tensor([[3],\n",
      "        [4],\n",
      "        [2],\n",
      "        [5],\n",
      "        [6],\n",
      "        [1]])\n"
     ]
    }
   ],
   "source": [
    "batch_index = np.arange(0,len(x_train))\n",
    "print(batch_index)\n",
    "random.shuffle(batch_index)\n",
    "print(batch_index)\n",
    "\n",
    "print(x_train)\n",
    "print(y_train)\n",
    "\n",
    "new_x_train = x_train[batch_index]\n",
    "new_y_train = y_train[batch_index]\n",
    "\n",
    "print(new_x_train)\n",
    "print(new_y_train)"
   ]
  },
  {
   "cell_type": "code",
   "execution_count": 90,
   "id": "b0c3d80a",
   "metadata": {},
   "outputs": [],
   "source": [
    "optim1.zero_grad()\n",
    "\n",
    "pred = model1(new_x_train)\n",
    "\n",
    "loss = cost(pred,new_y_train)\n",
    "\n",
    "loss.backward()\n",
    "optim1.step()"
   ]
  },
  {
   "cell_type": "code",
   "execution_count": 91,
   "id": "7eb4e996",
   "metadata": {},
   "outputs": [],
   "source": [
    "for i in range(3):\n",
    "    optim2.zero_grad()\n",
    "    pred = model2(new_x_train[i*2:(i+1)*2])\n",
    "\n",
    "    loss = cost(pred,new_y_train[i*2:(i+1)*2])\n",
    "    loss.backward()\n",
    "    optim2.step()"
   ]
  },
  {
   "cell_type": "code",
   "execution_count": 92,
   "id": "b2e0cd4a",
   "metadata": {},
   "outputs": [
    {
     "name": "stdout",
     "output_type": "stream",
     "text": [
      "Parameter containing:\n",
      "tensor([[0.4798]], requires_grad=True) Parameter containing:\n",
      "tensor([-0.1793], requires_grad=True)\n",
      "Parameter containing:\n",
      "tensor([[0.7664]], requires_grad=True) Parameter containing:\n",
      "tensor([-0.1066], requires_grad=True)\n"
     ]
    }
   ],
   "source": [
    "print(model1.linear.weight,model1.linear.bias)\n",
    "print(model2.linear.weight,model2.linear.bias)"
   ]
  },
  {
   "cell_type": "code",
   "execution_count": 93,
   "id": "919d651c",
   "metadata": {},
   "outputs": [],
   "source": [
    "epochs = 100\n",
    "batch_index = np.arange(0,len(x_train))\n",
    "for epoch in range(epochs):\n",
    "    random.shuffle(batch_index)\n",
    "    new_x_train = x_train[batch_index]\n",
    "    new_y_train = y_train[batch_index]\n",
    "    \n",
    "    optim1.zero_grad()\n",
    "\n",
    "    pred = model1(new_x_train)\n",
    "\n",
    "    loss = cost(pred,new_y_train)\n",
    "\n",
    "    loss.backward()\n",
    "    optim1.step()\n",
    "    \n",
    "    for i in range(3):\n",
    "        optim2.zero_grad()\n",
    "        pred = model2(new_x_train[i*2:(i+1)*2])\n",
    "\n",
    "        loss = cost(pred,new_y_train[i*2:(i+1)*2])\n",
    "        loss.backward()\n",
    "        optim2.step()"
   ]
  },
  {
   "cell_type": "code",
   "execution_count": 94,
   "id": "4aee30f0",
   "metadata": {},
   "outputs": [
    {
     "name": "stdout",
     "output_type": "stream",
     "text": [
      "Parameter containing:\n",
      "tensor([[1.0089]], requires_grad=True) Parameter containing:\n",
      "tensor([-0.0380], requires_grad=True)\n",
      "Parameter containing:\n",
      "tensor([[1.0037]], requires_grad=True) Parameter containing:\n",
      "tensor([-0.0157], requires_grad=True)\n"
     ]
    }
   ],
   "source": [
    "print(model1.linear.weight,model1.linear.bias)\n",
    "print(model2.linear.weight,model2.linear.bias)"
   ]
  },
  {
   "cell_type": "code",
   "execution_count": null,
   "id": "90f27113",
   "metadata": {},
   "outputs": [],
   "source": []
  }
 ],
 "metadata": {
  "kernelspec": {
   "display_name": "pytorch_p38",
   "language": "python",
   "name": "pytorch_p38"
  },
  "language_info": {
   "codemirror_mode": {
    "name": "ipython",
    "version": 3
   },
   "file_extension": ".py",
   "mimetype": "text/x-python",
   "name": "python",
   "nbconvert_exporter": "python",
   "pygments_lexer": "ipython3",
   "version": "3.8.12"
  }
 },
 "nbformat": 4,
 "nbformat_minor": 5
}
