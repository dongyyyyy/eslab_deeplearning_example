{
 "cells": [
  {
   "cell_type": "markdown",
   "id": "3c56f113",
   "metadata": {},
   "source": [
    "### Fully-connected Layer(Dense Layer)\n",
    "## $H(x) = Wx + b$\n",
    "### - x = [1,2,3]\n",
    "### - y = [1,2,3]"
   ]
  },
  {
   "cell_type": "code",
   "execution_count": 1,
   "id": "67bb74f7",
   "metadata": {},
   "outputs": [],
   "source": [
    "import numpy as np\n",
    "import torch\n",
    "import torch.nn as nn"
   ]
  },
  {
   "cell_type": "code",
   "execution_count": 2,
   "id": "da7ed0e1",
   "metadata": {},
   "outputs": [],
   "source": [
    "class model(nn.Module):\n",
    "    def __init__(self):\n",
    "        super().__init__()\n",
    "        self.linear = nn.Linear(1,1,bias=True)\n",
    "    def forward(self,x):\n",
    "        return self.linear(x)\n",
    "    "
   ]
  },
  {
   "cell_type": "code",
   "execution_count": 3,
   "id": "a3358ad0",
   "metadata": {},
   "outputs": [],
   "source": [
    "class model_parameter(nn.Module):\n",
    "    def __init__(self):\n",
    "        super().__init__()\n",
    "        self.W = nn.Parameter(torch.rand(1,1),requires_grad=True)\n",
    "        self.B = nn.Parameter(torch.rand(1,1),requires_grad=True)\n",
    "        \n",
    "    def forward(self,x):\n",
    "        return ((self.W * x) + self.B)"
   ]
  },
  {
   "cell_type": "code",
   "execution_count": 4,
   "id": "ada58964",
   "metadata": {},
   "outputs": [],
   "source": [
    "model1 = model()\n",
    "model2 = model_parameter()"
   ]
  },
  {
   "cell_type": "code",
   "execution_count": 5,
   "id": "40fe0d5d",
   "metadata": {},
   "outputs": [],
   "source": [
    "x_train = torch.tensor(np.array([1,2,3]).reshape(-1,1),dtype=torch.float)\n",
    "y_train = torch.tensor(np.array([1,2,3]).reshape(-1,1))"
   ]
  },
  {
   "cell_type": "markdown",
   "id": "674792b5",
   "metadata": {},
   "source": [
    "# Cost or Loss function\n",
    "## $cost(W,b) = \\frac{1}{m} \\sum_{i=1}^{m} {(H(x^{(i)})-y^{(i)})^2}$"
   ]
  },
  {
   "cell_type": "code",
   "execution_count": 6,
   "id": "e684eed0",
   "metadata": {},
   "outputs": [],
   "source": [
    "class mean_squred_error(nn.Module):\n",
    "    def __init__(self):\n",
    "        super().__init__()\n",
    "    def forward(self,x,y):\n",
    "        return torch.mean(torch.square(x-y))"
   ]
  },
  {
   "cell_type": "code",
   "execution_count": 7,
   "id": "3a856a8f",
   "metadata": {},
   "outputs": [],
   "source": [
    "cost = mean_squred_error()"
   ]
  },
  {
   "cell_type": "markdown",
   "id": "fdec386e",
   "metadata": {},
   "source": [
    "## Optimizer (Stochastic Gradient Descent)\n",
    "### $\\theta = \\theta - \\eta \\nabla_{\\theta}J(\\theta)$"
   ]
  },
  {
   "cell_type": "code",
   "execution_count": 8,
   "id": "5c3c1b6d",
   "metadata": {},
   "outputs": [],
   "source": [
    "learning_rate = 0.01\n",
    "optim1 = torch.optim.SGD(model1.parameters(),lr=learning_rate)\n",
    "optim2 = torch.optim.SGD(model2.parameters(),lr=learning_rate)"
   ]
  },
  {
   "cell_type": "code",
   "execution_count": 9,
   "id": "f8c71b2d",
   "metadata": {},
   "outputs": [],
   "source": [
    "epochs = 1000"
   ]
  },
  {
   "cell_type": "code",
   "execution_count": 10,
   "id": "8d700f36",
   "metadata": {},
   "outputs": [],
   "source": [
    "check_gradient = False\n",
    "saved_loss1 = []\n",
    "for epoch in range(epochs):\n",
    "    '''\n",
    "    optim1.zero_grad()는 무엇을 하는 작업인가?\n",
    "    '''\n",
    "#     if check_gradient == False:\n",
    "#         print('before zero.grad() : ', model1.linear.weight.grad)\n",
    "    optim1.zero_grad()\n",
    "#     if check_gradient == False:\n",
    "#         print('after zero.grad() : ', model1.linear.weight.grad)\n",
    "#         check_gradient = True\n",
    "    \n",
    "    pred = model1(x_train)\n",
    "    \n",
    "    loss = cost(pred,y_train)\n",
    "    saved_loss1.append(loss.item())\n",
    "    \n",
    "    '''\n",
    "    아래의 loss.backward() 와 optim.step() 이 의미하는 바는?\n",
    "    '''\n",
    "#     print('before back-propagation() : ', model1.linear.weight.grad)\n",
    "#     print(f'before back-propagation : {model1.linear.weight[0]}')\n",
    "    loss.backward()\n",
    "#     print('after back-propagation() : ', model1.linear.weight.grad)\n",
    "#     print(f'before update(step) : {model1.linear.weight[0]}')\n",
    "    optim1.step()\n",
    "#     print(f'after update(step) : {model1.linear.weight[0]}')\n",
    "    "
   ]
  },
  {
   "cell_type": "code",
   "execution_count": 11,
   "id": "22119092",
   "metadata": {},
   "outputs": [
    {
     "name": "stdout",
     "output_type": "stream",
     "text": [
      "Parameter containing:\n",
      "tensor([[0.9612]], requires_grad=True) Parameter containing:\n",
      "tensor([0.0882], requires_grad=True)\n"
     ]
    }
   ],
   "source": [
    "print(model1.linear.weight,model1.linear.bias)"
   ]
  },
  {
   "cell_type": "code",
   "execution_count": 12,
   "id": "5300e508",
   "metadata": {},
   "outputs": [],
   "source": [
    "saved_loss2 = []\n",
    "for epoch in range(epochs):\n",
    "    optim2.zero_grad()\n",
    "    \n",
    "    pred = model2(x_train)\n",
    "    \n",
    "    loss = cost(pred,y_train)\n",
    "    saved_loss2.append(loss.item())\n",
    "    loss.backward()\n",
    "    optim2.step()"
   ]
  },
  {
   "cell_type": "code",
   "execution_count": 13,
   "id": "b654ab9a",
   "metadata": {},
   "outputs": [
    {
     "name": "stdout",
     "output_type": "stream",
     "text": [
      "Parameter containing:\n",
      "tensor([[0.9672]], requires_grad=True) Parameter containing:\n",
      "tensor([[0.0746]], requires_grad=True)\n"
     ]
    }
   ],
   "source": [
    "print(model2.W, model2.B)"
   ]
  },
  {
   "cell_type": "code",
   "execution_count": 14,
   "id": "2d7aab66",
   "metadata": {},
   "outputs": [],
   "source": [
    "import matplotlib.pyplot as plt"
   ]
  },
  {
   "cell_type": "code",
   "execution_count": 15,
   "id": "bdd8b165",
   "metadata": {},
   "outputs": [
    {
     "data": {
      "image/png": "[encoded data removed]",
      "text/plain": [
       "<Figure size 432x288 with 1 Axes>"
      ]
     },
     "metadata": {
      "needs_background": "light"
     },
     "output_type": "display_data"
    }
   ],
   "source": [
    "plt.plot(saved_loss1,label='nn.Linear model')\n",
    "plt.plot(saved_loss2,label='Parameter model')\n",
    "plt.legend()\n",
    "plt.show()"
   ]
  },
  {
   "cell_type": "code",
   "execution_count": 16,
   "id": "0bd1c184",
   "metadata": {},
   "outputs": [
    {
     "name": "stdout",
     "output_type": "stream",
     "text": [
      "Linear layer weights : Parameter containing:\n",
      "tensor([[0.9612]], requires_grad=True) Linear layer bias : Parameter containing:\n",
      "tensor([0.0882], requires_grad=True)\n",
      "Linear layer weights : Parameter containing:\n",
      "tensor([[0.9672]], requires_grad=True) Linear layer bias : Parameter containing:\n",
      "tensor([[0.0746]], requires_grad=True)\n"
     ]
    }
   ],
   "source": [
    "print(f'Linear layer weights : {model1.linear.weight} Linear layer bias : {model1.linear.bias}')\n",
    "print(f'Linear layer weights : {model2.W} Linear layer bias : {model2.B}')"
   ]
  },
  {
   "cell_type": "markdown",
   "id": "ed83d2a4",
   "metadata": {},
   "source": [
    "## Our Goal $\\rightarrow$ $W \\approx 1$ and $B \\approx 0$"
   ]
  },
  {
   "cell_type": "code",
   "execution_count": null,
   "id": "cb906a39",
   "metadata": {},
   "outputs": [],
   "source": []
  }
 ],
 "metadata": {
  "kernelspec": {
   "display_name": "pytorch_p38",
   "language": "python",
   "name": "pytorch_p38"
  },
  "language_info": {
   "codemirror_mode": {
    "name": "ipython",
    "version": 3
   },
   "file_extension": ".py",
   "mimetype": "text/x-python",
   "name": "python",
   "nbconvert_exporter": "python",
   "pygments_lexer": "ipython3",
   "version": "3.8.12"
  }
 },
 "nbformat": 4,
 "nbformat_minor": 5
}
