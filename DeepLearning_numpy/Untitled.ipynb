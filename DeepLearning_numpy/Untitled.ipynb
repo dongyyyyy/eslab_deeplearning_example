{
 "cells": [
  {
   "cell_type": "code",
   "execution_count": 1,
   "id": "8a236a3d",
   "metadata": {},
   "outputs": [],
   "source": [
    "import numpy as np\n",
    "import pickle\n",
    "import matplotlib.pyplot as plt\n"
   ]
  },
  {
   "cell_type": "code",
   "execution_count": 3,
   "id": "cfee5626",
   "metadata": {},
   "outputs": [],
   "source": [
    "# Loading data file\n",
    "\n",
    "infile = open('../dataset/mnist.pkl','rb')\n",
    "mnist_data = pickle.load(infile)\n",
    "infile.close()"
   ]
  },
  {
   "cell_type": "code",
   "execution_count": 4,
   "id": "c16c9e39",
   "metadata": {},
   "outputs": [
    {
     "data": {
      "text/plain": [
       "dict_keys(['Xtest', 'ytest', 'Xtrain', 'ytrain'])"
      ]
     },
     "execution_count": 4,
     "metadata": {},
     "output_type": "execute_result"
    }
   ],
   "source": [
    "mnist_data.keys()"
   ]
  },
  {
   "cell_type": "markdown",
   "id": "06b549fd",
   "metadata": {},
   "source": [
    "## Shape Information\n",
    "### - index 0 : number of samples\n",
    "### - index 1 : feature map(input information) -> $1 \\times 20 \\times 20$"
   ]
  },
  {
   "cell_type": "code",
   "execution_count": 7,
   "id": "d8320ca2",
   "metadata": {},
   "outputs": [
    {
     "name": "stdout",
     "output_type": "stream",
     "text": [
      "train dataset shape = (4000, 400)\n",
      "test dataset shape = (1000, 400)\n"
     ]
    }
   ],
   "source": [
    "print(f\"train dataset shape = {mnist_data['Xtrain'].shape}\")\n",
    "print(f\"test dataset shape = {mnist_data['Xtest'].shape}\")"
   ]
  },
  {
   "cell_type": "code",
   "execution_count": 14,
   "id": "cb3bdc2e",
   "metadata": {},
   "outputs": [],
   "source": [
    "import dataloader as DL\n",
    "batchsize = 20\n",
    "\n",
    "train_loader = DL.dataLoader(mnist_data['Xtrain'], mnist_data['ytrain'], batchsize)\n",
    "test_loader = DL.dataLoader(mnist_data['Xtest'], mnist_data['ytest'], batchsize)"
   ]
  },
  {
   "cell_type": "code",
   "execution_count": 16,
   "id": "68fc12df",
   "metadata": {},
   "outputs": [
    {
     "name": "stdout",
     "output_type": "stream",
     "text": [
      "label is 2\n"
     ]
    },
    {
     "data": {
      "image/png": "[encoded data removed]",
      "text/plain": [
       "<Figure size 432x288 with 1 Axes>"
      ]
     },
     "metadata": {
      "needs_background": "light"
     },
     "output_type": "display_data"
    }
   ],
   "source": [
    "image, label = next(test_loader)\n",
    "\n",
    "image_2D = image[1].reshape(20,20).transpose(1,0)\n",
    "fig, ax = plt.subplots()\n",
    "ax.imshow(image_2D)\n",
    "print('label is {}'.format(label[0][0]))"
   ]
  },
  {
   "cell_type": "code",
   "execution_count": 19,
   "id": "c3df30b1",
   "metadata": {},
   "outputs": [],
   "source": [
    "import model as NN"
   ]
  },
  {
   "cell_type": "code",
   "execution_count": 20,
   "id": "78df023c",
   "metadata": {},
   "outputs": [],
   "source": [
    "model = NN.Network(400, 10, [50, 20, 30 ])"
   ]
  },
  {
   "cell_type": "code",
   "execution_count": 21,
   "id": "23e55207",
   "metadata": {},
   "outputs": [
    {
     "name": "stdout",
     "output_type": "stream",
     "text": [
      "(400, 50)\n",
      "(50, 20)\n",
      "(20, 30)\n",
      "(30, 10)\n",
      "(1, 50)\n",
      "(1, 20)\n",
      "(1, 30)\n",
      "(1, 10)\n"
     ]
    }
   ],
   "source": [
    "for i in range(1,len(model.W)+1):\n",
    "    print(model.W[i].shape)\n",
    "   \n",
    "   \n",
    "for i in range(1,len(model.b)+1):\n",
    "    print(model.b[i].shape)"
   ]
  },
  {
   "cell_type": "code",
   "execution_count": 22,
   "id": "66cd2afa",
   "metadata": {},
   "outputs": [
    {
     "data": {
      "text/plain": [
       "(20, 10)"
      ]
     },
     "execution_count": 22,
     "metadata": {},
     "output_type": "execute_result"
    }
   ],
   "source": [
    "image, label = next(iter(train_loader))\n",
    "out = model.forward(image)\n",
    "out.shape"
   ]
  }
 ],
 "metadata": {
  "kernelspec": {
   "display_name": "pytorch_p38",
   "language": "python",
   "name": "pytorch_p38"
  },
  "language_info": {
   "codemirror_mode": {
    "name": "ipython",
    "version": 3
   },
   "file_extension": ".py",
   "mimetype": "text/x-python",
   "name": "python",
   "nbconvert_exporter": "python",
   "pygments_lexer": "ipython3",
   "version": "3.8.12"
  }
 },
 "nbformat": 4,
 "nbformat_minor": 5
}
